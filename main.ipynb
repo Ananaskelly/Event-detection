{
 "cells": [
  {
   "cell_type": "markdown",
   "metadata": {
    "collapsed": true
   },
   "source": [
    "# Простой пример модели детектирования акустических событий."
   ]
  },
  {
   "cell_type": "markdown",
   "metadata": {},
   "source": [
    "## Импортируем необходимые библиотеки"
   ]
  },
  {
   "cell_type": "code",
   "execution_count": null,
   "metadata": {
    "collapsed": true
   },
   "outputs": [],
   "source": [
    "import numpy as np\n",
    "from librosa.feature import melspectrogram\n",
    "from librosa.core import load as load_wav\n",
    "from librosa.display import specshow\n",
    "from librosa import power_to_db\n",
    "import os\n",
    "import matplotlib.pyplot as plt\n",
    "\n",
    "from utils.preprocessing import extract_log_mel_feats"
   ]
  },
  {
   "cell_type": "markdown",
   "metadata": {},
   "source": [
    "## Скачивание данных и подготовка к обучению"
   ]
  },
  {
   "cell_type": "markdown",
   "metadata": {},
   "source": [
    "Скачать архив с данными можно, перейдя по ссылке. Для скачивания потребуется авторизация на kaggle.com. \n",
    "\n",
    "Затем необходимо положить данные для трейна и теста в папки data/audio_train и data/audio_test соответственно, так же в корень папки необходимо положить файл train.csv, который также можно найти в архиве. \n",
    "\n",
    "Далее задаются различные параметры для извлечения фичей из файлов."
   ]
  },
  {
   "cell_type": "code",
   "execution_count": null,
   "metadata": {
    "collapsed": true
   },
   "outputs": [],
   "source": [
    "train_folder = './data/audio_train'\n",
    "test_folder = './data/audio_train'\n",
    "\n",
    "\n",
    "sample_rate = 8000\n",
    "fft_size = 1024\n",
    "overlap = 4\n",
    "hop = fft_size // overlap\n",
    "mels = 64"
   ]
  },
  {
   "cell_type": "markdown",
   "metadata": {},
   "source": [
    "## Визуализация фичей, используемых при обучении, для одного файла."
   ]
  },
  {
   "cell_type": "code",
   "execution_count": null,
   "metadata": {
    "collapsed": true
   },
   "outputs": [],
   "source": [
    "wav_data, sr = load_wav(os.path.join(train_folder, 'aaf6167e.wav'), sr=sample_rate)\n",
    "\n",
    "mel_spec = melspectrogram(wav_data, n_fft=fft_size, hop_length=hop, n_mels=mels, \n",
    "                          fmax=sample_rate//2)\n",
    "\n",
    "plt.figure(figsize=(10, 4))\n",
    "specshow(mel_spec, y_axis='mel',\n",
    "         fmax=sample_rate//2, x_axis='time')\n",
    "plt.colorbar(format='%+2.0f дБ')\n",
    "plt.title('Мелспектрограмма скрипки')\n",
    "plt.tight_layout()\n",
    "plt.show()\n",
    "\n",
    "plt.figure(figsize=(10, 4))\n",
    "specshow(power_to_db(mel_spec, ref=np.max), y_axis='mel',\n",
    "         fmax=sample_rate//2, x_axis='time')\n",
    "plt.colorbar(format='%+2.0f дБ')\n",
    "plt.title('Логарифм мелспектрограммы скрипки')\n",
    "plt.tight_layout()\n",
    "plt.show()"
   ]
  },
  {
   "cell_type": "markdown",
   "metadata": {},
   "source": [
    "## Извлечение признаков\n"
   ]
  },
  {
   "cell_type": "markdown",
   "metadata": {},
   "source": [
    "Для ускорения вычислений нам будет полезно вычислить всем мелспектрограммы заранее и сохранить их. Выполнение данной ячейки займет некоторое время, так как процесс вычисления признаков дорогой. Размер полученных файлов будет приблизительно 1 гб каждый (при исходных значениях параметров)."
   ]
  },
  {
   "cell_type": "code",
   "execution_count": null,
   "metadata": {
    "collapsed": true
   },
   "outputs": [],
   "source": [
    "path_to_csv = os.path.join('./data', 'train.csv')\n",
    "pickle_train_path = os.path.join('./data', 'train.pickle')\n",
    "pickle_test_path = os.path.join('./data', 'test.pickle')\n",
    "\n",
    "extract_log_mel_feats('train', path_to_csv, train_folder, pickle_train_path, sample_rate, fft_size, hop, mels)\n",
    "extract_log_mel_feats('test', '', test_folder, pickle_test_path, sample_rate, fft_size, hop, mels)"
   ]
  },
  {
   "cell_type": "markdown",
   "metadata": {},
   "source": [
    "## Обучаем модель"
   ]
  },
  {
   "cell_type": "code",
   "execution_count": 1,
   "metadata": {},
   "outputs": [],
   "source": [
    "import pickle\n",
    "\n",
    "\n",
    "from model.batcher import Batcher\n",
    "from model.config import Config\n",
    "from model.cnn_model import CNNModel\n",
    "from model.utils import prepare_shape\n",
    "\n",
    "from keras.callbacks import ModelCheckpoint"
   ]
  },
  {
   "cell_type": "code",
   "execution_count": null,
   "metadata": {
    "collapsed": true
   },
   "outputs": [],
   "source": [
    "config = Config(shape=(64, 63, 1), learning_rate=0.001, n_classes=41)\n",
    "\n",
    "pickle_train_data = pickle.load(open(pickle_train_path, 'rb'))\n",
    "\n",
    "x_val = []\n",
    "y_val = []\n",
    "\n",
    "x_tr = []\n",
    "y_tr = []\n",
    "\n",
    "for i, row in enumerate(pickle_train_data):\n",
    "    feature = prepare_shape(row['feature'], config)\n",
    "    if i < 1000:\n",
    "        x_val.append(feature)\n",
    "        y_val.append(row['label_id'])\n",
    "    else:\n",
    "        x_tr.append(feature)\n",
    "        y_tr.append(row['label_id'])\n",
    "x_val = np.asarray(x_val)\n",
    "x_tr = np.asarray(x_tr)\n",
    "\n",
    "y_val = np.asarray(y_val)\n",
    "y_tr = np.asarray(y_tr)\n",
    "\n",
    "train_batcher = Batcher(x_tr, y_tr, batch_size=100)\n",
    "val_batcher = Batcher(x_val, y_val)\n",
    "\n",
    "checkpoint = ModelCheckpoint('./best_weights.h5', monitor='val_loss',\n",
    "                             verbose=1, save_best_only=True)\n",
    "\n",
    "model = CNNModel(config).get_model()\n",
    "\n",
    "history = model.fit_generator(train_batcher,\n",
    "                              callbacks=[checkpoint],\n",
    "                              validation_data=val_batcher,\n",
    "                              epochs=50,\n",
    "                              use_multiprocessing=False,\n",
    "                              workers=0)"
   ]
  },
  {
   "cell_type": "markdown",
   "metadata": {},
   "source": [
    "## Формируем файл для отправки на kaggle."
   ]
  },
  {
   "cell_type": "code",
   "execution_count": null,
   "metadata": {},
   "outputs": [],
   "source": [
    "pickle_test_data = pickle.load(open('./test.pickle', 'rb'))\n",
    "x_test = []\n",
    "\n",
    "for i, row in enumerate(pickle_test_data):\n",
    "    feature = prepare_shape(row['feature'], config)\n",
    "    x_test.append(feature)\n",
    "x_test = np.asarray(x_test)\n",
    "model.load_weights('./best_weights.h5')\n",
    "config = Config(shape=(64, 63, 1), learning_rate=0.001, n_classes=41)\n",
    "\n",
    "pred_batcher = Batcher(x_test)\n",
    "\n",
    "predictions = model.predict_generator(pred_batcher,\n",
    "                                      use_multiprocessing=False,\n",
    "                                      workers=0)\n",
    "res = np.argsort(predictions)\n",
    "id_to_label = {i: label for label, i in label_to_id.items()}\n",
    "with open('./base_submission.csv', 'w') as f:\n",
    "    f.write('fname,label\\n')\n",
    "    for i, row in enumerate(res):\n",
    "        row = row[::-1]\n",
    "        f.write('{},{} {} {}\\n'.format(pickle_test_data[i]['fname'],\n",
    "                                       id_to_label[row[0]],\n",
    "                                       id_to_label[row[1]],\n",
    "                                       id_to_label[row[2]]))"
   ]
  },
  {
   "cell_type": "markdown",
   "metadata": {},
   "source": [
    "### Готово! \n",
    "\n",
    "Теперь в рабочей директории появился файл с предсказаниями для тестовой выборки - его можно смело отправлять на kaggle и, например, попробовать улучшить модель и сравнить результат."
   ]
  }
 ],
 "metadata": {
  "kernelspec": {
   "display_name": "Python 3",
   "language": "python",
   "name": "python3"
  },
  "language_info": {
   "codemirror_mode": {
    "name": "ipython",
    "version": 3
   },
   "file_extension": ".py",
   "mimetype": "text/x-python",
   "name": "python",
   "nbconvert_exporter": "python",
   "pygments_lexer": "ipython3",
   "version": "3.5.5"
  }
 },
 "nbformat": 4,
 "nbformat_minor": 1
}
