{
 "cells": [
  {
   "cell_type": "markdown",
   "metadata": {
    "collapsed": true
   },
   "source": [
    "# Простой пример модели детектирования акустических событий."
   ]
  },
  {
   "cell_type": "markdown",
   "metadata": {},
   "source": [
    "## Импортируем необходимые библиотеки"
   ]
  },
  {
   "cell_type": "code",
   "execution_count": null,
   "metadata": {},
   "outputs": [],
   "source": [
    "import numpy as np\n",
    "from librosa.feature import melspectrogram\n",
    "from librosa.core import load as load_wav\n",
    "from librosa.display import specshow\n",
    "from librosa import power_to_db\n",
    "import os\n",
    "import matplotlib.pyplot as plt"
   ]
  },
  {
   "cell_type": "markdown",
   "metadata": {},
   "source": [
    "## Скачивание данных и подготовка к обучению"
   ]
  },
  {
   "cell_type": "markdown",
   "metadata": {},
   "source": [
    "Скачать архив с данными можно, перейдя по ссылке. Для скачивания потребуется авторизация на kaggle.com. \n",
    "\n",
    "Затем необходимо положить данные для трейна и теста в папки data/audio_train и data/audio_test соответственно, так же в корень папки необходимо положить файл train.csv, который также можно найти в архиве. \n",
    "\n",
    "Далее задаются различные параметры для извлечения фичей из файлов."
   ]
  },
  {
   "cell_type": "code",
   "execution_count": null,
   "metadata": {},
   "outputs": [],
   "source": [
    "train_folder = './data/audio_train'\n",
    "test_folder = './data/audio_train'\n",
    "\n",
    "\n",
    "sample_rate = 8000\n",
    "fft_size = 1024\n",
    "overlap = 4\n",
    "hop = fft_size // overlap\n",
    "mels = 64"
   ]
  },
  {
   "cell_type": "markdown",
   "metadata": {},
   "source": [
    "## Визуализация фичей, используемых при обучении, для одного файла."
   ]
  },
  {
   "cell_type": "code",
   "execution_count": null,
   "metadata": {},
   "outputs": [],
   "source": [
    "wav_data, sr = load_wav(os.path.join(train_folder, 'aaf6167e.wav'), sr=sample_rate)\n",
    "\n",
    "mel_spec = melspectrogram(wav_data, n_fft=fft_size, hop_length=hop, n_mels=mels, \n",
    "                          fmax=sample_rate//2)\n",
    "\n",
    "plt.figure(figsize=(10, 4))\n",
    "specshow(mel_spec, y_axis='mel',\n",
    "         fmax=sample_rate//2, x_axis='time')\n",
    "plt.colorbar(format='%+2.0f дБ')\n",
    "plt.title('Мелспектрограмма скрипки')\n",
    "plt.tight_layout()\n",
    "plt.show()\n",
    "\n",
    "plt.figure(figsize=(10, 4))\n",
    "specshow(power_to_db(mel_spec, ref=np.max), y_axis='mel',\n",
    "         fmax=sample_rate//2, x_axis='time')\n",
    "plt.colorbar(format='%+2.0f дБ')\n",
    "plt.title('Логарифм мелспектрограммы скрипки')\n",
    "plt.tight_layout()\n",
    "plt.show()"
   ]
  },
  {
   "cell_type": "markdown",
   "metadata": {},
   "source": [
    "## Извлечение признаков\n"
   ]
  },
  {
   "cell_type": "markdown",
   "metadata": {},
   "source": [
    "Для ускорения вычислений нам будет полезно вычислить всем мелспектрограммы заранее и сохранить их. Выполнение данной ячейки займет некоторое время, так как процесс вычисления признаков дорогой. Размер полученных файлов будет приблизительно 1 гб каждый (при исходных значениях параметров)."
   ]
  },
  {
   "cell_type": "code",
   "execution_count": null,
   "outputs": [],
   "source": [
    ""
   ]
  }
 ],
 "metadata": {
  "kernelspec": {
   "display_name": "Python 2",
   "language": "python",
   "name": "python2"
  },
  "language_info": {
   "codemirror_mode": {
    "name": "ipython",
    "version": 2.0
   },
   "file_extension": ".py",
   "mimetype": "text/x-python",
   "name": "python",
   "nbconvert_exporter": "python",
   "pygments_lexer": "ipython2",
   "version": "2.7.6"
  }
 },
 "nbformat": 4,
 "nbformat_minor": 0
}